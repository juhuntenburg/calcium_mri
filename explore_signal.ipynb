{
 "cells": [
  {
   "cell_type": "code",
   "execution_count": null,
   "metadata": {
    "collapsed": true
   },
   "outputs": [],
   "source": [
    "%matplotlib notebook"
   ]
  },
  {
   "cell_type": "code",
   "execution_count": null,
   "metadata": {
    "collapsed": true
   },
   "outputs": [],
   "source": [
    "import numpy as np\n",
    "import matplotlib.pyplot as plt\n",
    "import seaborn as sns\n",
    "import pandas as pd\n",
    "from scipy.signal import butter, lfilter, freqz, detrend\n",
    "from scipy.optimize import curve_fit\n",
    "from sklearn import linear_model\n",
    "from scipy import stats"
   ]
  },
  {
   "cell_type": "code",
   "execution_count": null,
   "metadata": {
    "collapsed": true
   },
   "outputs": [],
   "source": [
    "sns.set()\n",
    "sns.set_style('ticks')\n",
    "sns.set_context('notebook')"
   ]
  },
  {
   "cell_type": "code",
   "execution_count": null,
   "metadata": {
    "collapsed": true
   },
   "outputs": [],
   "source": [
    "df = pd.read_csv('/home/julia/projects/calcium_bold/calcium_data/259_05_c.csv')"
   ]
  },
  {
   "cell_type": "code",
   "execution_count": null,
   "metadata": {},
   "outputs": [],
   "source": [
    "df"
   ]
  },
  {
   "cell_type": "code",
   "execution_count": null,
   "metadata": {
    "collapsed": true
   },
   "outputs": [],
   "source": [
    "unfiltered_data = df['signal[V]']\n",
    "unfiltered_data_1 = unfiltered_data[543000:4998000]\n",
    "timepoints_1 = df['timepoint[ms]'][543000:4998000]/10000\n",
    "unfiltered_data_2 = unfiltered_data[6040000:]\n",
    "timepoints_2 = df['timepoint[ms]'][6040000:]/10000"
   ]
  },
  {
   "cell_type": "code",
   "execution_count": null,
   "metadata": {
    "scrolled": false
   },
   "outputs": [],
   "source": [
    "fig = plt.figure(figsize=(8,8))\n",
    "ax1 = fig.add_subplot(1,1,1)\n",
    "#ax1.set_xticks(ticks)\n",
    "ax1.set_xlabel(\"Time [s]\")\n",
    "ax1.set_ylabel(\"Signal [V]\")\n",
    "ax1.plot(timepoints_2, unfiltered_data_2, linewidth=0.8)\n",
    "#ax1.plot(timepoints, norm_led(led_data, unfiltered_data), color='red', linewidth=1.5)\n",
    "sns.despine()\n",
    "\n",
    "\n",
    "#ax2 = fig.add_subplot(2,1,2)\n",
    "#ax2.set_xticks(ticks)\n",
    "#ax2.set_xlabel(\"Time [s]\")\n",
    "#ax2.set_ylabel(\"Signal [V]\")\n",
    "#ax2.plot(timepoints_2, unfiltered_data_2, linewidth=0.8)\n",
    "#ax2.plot(timepoints, norm_led(led_data, lowpass_filtered_data), color='red', linewidth=1.5)\n",
    "#sns.despine()"
   ]
  },
  {
   "cell_type": "code",
   "execution_count": null,
   "metadata": {
    "collapsed": true
   },
   "outputs": [],
   "source": [
    "fig.savefig(\"calcium_traces_upon_laser.png\")"
   ]
  },
  {
   "cell_type": "code",
   "execution_count": null,
   "metadata": {
    "collapsed": true
   },
   "outputs": [],
   "source": [
    "def butter_lowpass(cutoff, fs, order=5):\n",
    "    nyq = 0.5 * fs\n",
    "    normal_cutoff = cutoff / nyq\n",
    "    b, a = butter(order, normal_cutoff, btype='low', analog=False)\n",
    "    return b, a\n",
    "\n",
    "def butter_lowpass_filter(data, cutoff, fs, order=5):\n",
    "    b, a = butter_lowpass(cutoff, fs, order=order)\n",
    "    y = lfilter(b, a, data)\n",
    "    return y"
   ]
  },
  {
   "cell_type": "code",
   "execution_count": null,
   "metadata": {
    "collapsed": true
   },
   "outputs": [],
   "source": [
    "order = 6\n",
    "fs = 10000.0  # sampling rate in Hz\n",
    "lowpass_cutoff = 100"
   ]
  },
  {
   "cell_type": "code",
   "execution_count": null,
   "metadata": {
    "collapsed": true
   },
   "outputs": [],
   "source": [
    "lowpass_filtered_data_1 = butter_lowpass_filter(unfiltered_data_1, lowpass_cutoff, fs, order)"
   ]
  },
  {
   "cell_type": "code",
   "execution_count": null,
   "metadata": {},
   "outputs": [],
   "source": [
    "fig = plt.figure(figsize=(8,8))\n",
    "ax1 = fig.add_subplot(2,1,1)\n",
    "#ax1.set_xticks(ticks)\n",
    "ax1.set_xlabel(\"Time [s]\")\n",
    "ax1.set_ylabel(\"Signal [V]\")\n",
    "ax1.plot(timepoints_1, unfiltered_data_1, linewidth=0.8)\n",
    "#ax1.plot(timepoints, norm_led(led_data, unfiltered_data), color='red', linewidth=1.5)\n",
    "sns.despine()\n",
    "\n",
    "ax1 = fig.add_subplot(2,1,2)\n",
    "#ax1.set_xticks(ticks)\n",
    "ax1.set_xlabel(\"Time [s]\")\n",
    "ax1.set_ylabel(\"Signal [V]\")\n",
    "ax1.plot(timepoints_1, lowpass_filtered_data_1, linewidth=0.8)\n",
    "#ax1.plot(timepoints, norm_led(led_data, unfiltered_data), color='red', linewidth=1.5)\n",
    "sns.despine()"
   ]
  },
  {
   "cell_type": "code",
   "execution_count": null,
   "metadata": {
    "collapsed": true
   },
   "outputs": [],
   "source": []
  }
 ],
 "metadata": {
  "kernelspec": {
   "display_name": "Python 3",
   "language": "python",
   "name": "python3"
  },
  "language_info": {
   "codemirror_mode": {
    "name": "ipython",
    "version": 3
   },
   "file_extension": ".py",
   "mimetype": "text/x-python",
   "name": "python",
   "nbconvert_exporter": "python",
   "pygments_lexer": "ipython3",
   "version": "3.6.8"
  }
 },
 "nbformat": 4,
 "nbformat_minor": 2
}
